{
  "nbformat": 4,
  "nbformat_minor": 0,
  "metadata": {
    "colab": {
      "name": "Untitled3.ipynb",
      "provenance": [],
      "collapsed_sections": []
    },
    "kernelspec": {
      "name": "python3",
      "display_name": "Python 3"
    }
  },
  "cells": [
    {
      "cell_type": "code",
      "metadata": {
        "id": "hg7nMx2kbBPQ",
        "colab_type": "code",
        "colab": {
          "base_uri": "https://localhost:8080/",
          "height": 763
        },
        "outputId": "ceed9262-8e00-4296-b112-95aad7905aee"
      },
      "source": [
        "import os\n",
        "import tensorflow.compat.v1 as tf\n",
        "tf.disable_v2_behavior()\n",
        "x_var = tf.Variable(0.,name='x_result')\n",
        "\n",
        "step_var =tf.Variable(0,trainable=False)\n",
        "loss = x_var*x_var-4.0*x_var+5.0\n",
        "\n",
        "learn_rate =0.1\n",
        "num_epochs= 40\n",
        "optimizer = tf.train.GradientDescentOptimizer(learn_rate).minimize(loss,global_step=step_var)\n",
        "\n",
        "init=tf.global_variables_initializer()\n",
        "saver=tf.train.Saver()\n",
        "summary_op=tf.summary.scalar('x',x_var)\n",
        "\n",
        "file_writer=tf.summary.FileWriter('log',graph=tf.get_default_graph())\n",
        "\n",
        "with tf.Session() as sess:\n",
        "  sess.run(init)\n",
        "  for epoch in range(num_epochs):\n",
        "    _,step,result,summary=sess.run([optimizer,step_var,x_var,summary_op])\n",
        "    print('Step%d:computed result %f'% (step,result))\n",
        "    file_writer.add_summary(summary,global_step=step)\n",
        "    file_writer.flush()\n",
        "  saver.save(sess,os.getcwd()+ '/output')\n",
        "  print('final x_var:%f' %sess.run(x_var))  "
      ],
      "execution_count": 36,
      "outputs": [
        {
          "output_type": "stream",
          "text": [
            "Step1:computed result 0.400000\n",
            "Step2:computed result 0.720000\n",
            "Step3:computed result 0.976000\n",
            "Step4:computed result 1.180800\n",
            "Step5:computed result 1.344640\n",
            "Step6:computed result 1.475712\n",
            "Step7:computed result 1.580570\n",
            "Step8:computed result 1.664456\n",
            "Step9:computed result 1.731565\n",
            "Step10:computed result 1.785252\n",
            "Step11:computed result 1.828201\n",
            "Step12:computed result 1.862561\n",
            "Step13:computed result 1.890049\n",
            "Step14:computed result 1.912039\n",
            "Step15:computed result 1.929631\n",
            "Step16:computed result 1.943705\n",
            "Step17:computed result 1.954964\n",
            "Step18:computed result 1.963971\n",
            "Step19:computed result 1.971177\n",
            "Step20:computed result 1.976941\n",
            "Step21:computed result 1.981553\n",
            "Step22:computed result 1.985243\n",
            "Step23:computed result 1.988194\n",
            "Step24:computed result 1.990555\n",
            "Step25:computed result 1.992444\n",
            "Step26:computed result 1.993955\n",
            "Step27:computed result 1.995164\n",
            "Step28:computed result 1.996131\n",
            "Step29:computed result 1.996905\n",
            "Step30:computed result 1.997524\n",
            "Step31:computed result 1.998019\n",
            "Step32:computed result 1.998415\n",
            "Step33:computed result 1.998732\n",
            "Step34:computed result 1.998986\n",
            "Step35:computed result 1.999189\n",
            "Step36:computed result 1.999351\n",
            "Step37:computed result 1.999481\n",
            "Step38:computed result 1.999585\n",
            "Step39:computed result 1.999668\n",
            "Step40:computed result 1.999734\n",
            "final x_var:1.999734\n"
          ],
          "name": "stdout"
        }
      ]
    },
    {
      "cell_type": "code",
      "metadata": {
        "id": "OsbAB69fbMpx",
        "colab_type": "code",
        "colab": {}
      },
      "source": [
        ""
      ],
      "execution_count": 10,
      "outputs": []
    },
    {
      "cell_type": "code",
      "metadata": {
        "id": "Bsh3i0CEbkk4",
        "colab_type": "code",
        "colab": {}
      },
      "source": [
        ""
      ],
      "execution_count": 11,
      "outputs": []
    },
    {
      "cell_type": "code",
      "metadata": {
        "id": "6T4lmPYDbw28",
        "colab_type": "code",
        "colab": {}
      },
      "source": [
        ""
      ],
      "execution_count": 12,
      "outputs": []
    },
    {
      "cell_type": "code",
      "metadata": {
        "id": "Z6JKDQkucGdq",
        "colab_type": "code",
        "colab": {}
      },
      "source": [
        ""
      ],
      "execution_count": 13,
      "outputs": []
    },
    {
      "cell_type": "code",
      "metadata": {
        "id": "oKW_1UvDcj_V",
        "colab_type": "code",
        "colab": {}
      },
      "source": [
        ""
      ],
      "execution_count": 14,
      "outputs": []
    },
    {
      "cell_type": "code",
      "metadata": {
        "id": "SGlbP7Brcncb",
        "colab_type": "code",
        "colab": {}
      },
      "source": [
        ""
      ],
      "execution_count": 15,
      "outputs": []
    },
    {
      "cell_type": "code",
      "metadata": {
        "id": "hbKzrErYct3M",
        "colab_type": "code",
        "colab": {}
      },
      "source": [
        "\n"
      ],
      "execution_count": 27,
      "outputs": []
    },
    {
      "cell_type": "code",
      "metadata": {
        "id": "IY0HRKaXc2uI",
        "colab_type": "code",
        "colab": {}
      },
      "source": [
        "\n",
        "\n"
      ],
      "execution_count": 32,
      "outputs": []
    },
    {
      "cell_type": "code",
      "metadata": {
        "id": "b5H04FnRdXAg",
        "colab_type": "code",
        "colab": {}
      },
      "source": [
        ""
      ],
      "execution_count": 25,
      "outputs": []
    },
    {
      "cell_type": "code",
      "metadata": {
        "id": "M6lBN4NTdwhp",
        "colab_type": "code",
        "colab": {}
      },
      "source": [
        ""
      ],
      "execution_count": null,
      "outputs": []
    }
  ]
}